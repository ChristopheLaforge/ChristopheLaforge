{
  "nbformat": 4,
  "nbformat_minor": 0,
  "metadata": {
    "colab": {
      "provenance": [],
      "collapsed_sections": [],
      "authorship_tag": "ABX9TyO99qIqFCPXnqX6pkfKHNvw",
      "include_colab_link": true
    },
    "kernelspec": {
      "name": "python3",
      "display_name": "Python 3"
    },
    "language_info": {
      "name": "python"
    }
  },
  "cells": [
    {
      "cell_type": "markdown",
      "metadata": {
        "id": "view-in-github",
        "colab_type": "text"
      },
      "source": [
        "<a href=\"https://colab.research.google.com/github/ChristopheLaforge/ChristopheLaforge/blob/main/Hooper2020.ipynb\" target=\"_parent\"><img src=\"https://colab.research.google.com/assets/colab-badge.svg\" alt=\"Open In Colab\"/></a>"
      ]
    },
    {
      "cell_type": "code",
      "source": [
        "from traitlets.traitlets import ForwardDeclaredInstance\n",
        "import random\n",
        "import math\n",
        "\n",
        "class OneRandomWalk:\n",
        "  implemented_graphs = [\"Squared_Lattice\",\"Triangular_Lattice\",\n",
        "                        \"Cubic_Lattice\",\"Hexagonal_Lattice\"]\n",
        "  def __init__(self,iMaximumLength,iGraph,iBeta):\n",
        "    self.maximum_length = iMaximumLength\n",
        "    self.graph = iGraph\n",
        "    self.beta = iBeta\n",
        "    self.initial_site = [0,0,0]\n",
        "    self.length = 0\n",
        "    self.path = [self.initial_site]\n",
        "    self.winding = 0\n",
        "    self.is_trapped_forward = False\n",
        "    self.is_trapped_backward = False\n",
        "    self.epsilon = 1\n",
        "    if not self.IsGraphImplemented(): print(\"Graph is not implemented\")\n",
        "\n",
        "# functions that should not evolved anymore\n",
        "  def IsGraphImplemented(self):\n",
        "    output = False\n",
        "    if self.graph in self.implemented_graphs: output = True\n",
        "    return output\n",
        "\n",
        "  def ResetWalk(self):\n",
        "    self.length = 0\n",
        "    self.path = [self.initial_site]\n",
        "    self.is_trapped_forward = False\n",
        "    self.is_trapped_backward = False\n",
        "    return None\n",
        "\n",
        "  def Atmosphere(self,iSite):\n",
        "    output = len(self.OccupiedSites(self.FirstNeighbors(iSite)))\n",
        "    return output\n",
        "\n",
        "  def UnoccupiedSites(self,iListSites):\n",
        "    output = [site for site in iListSites if site not in self.path]\n",
        "    return output\n",
        "  \n",
        "  def OccupiedSites(self,iListSites):\n",
        "    output = [site for site in iListSites if site in self.path]\n",
        "    return output\n",
        "\n",
        "  def FirstNeighborsInSquaredLattice(self,iSite):\n",
        "    output = []\n",
        "    output.append([iSite[0]+1,iSite[1],iSite[2]])\n",
        "    output.append([iSite[0],iSite[1]+1,iSite[2]])\n",
        "    output.append([iSite[0]-1,iSite[1],iSite[2]])\n",
        "    output.append([iSite[0],iSite[1]-1,iSite[2]])\n",
        "    return output\n",
        "\n",
        "  def FirstNeighborsInCubicLattice(self,iSite):\n",
        "    output = []\n",
        "    output.append([iSite[0]+1,iSite[1],iSite[2]])\n",
        "    output.append([iSite[0],iSite[1]+1,iSite[2]])\n",
        "    output.append([iSite[0]-1,iSite[1],iSite[2]])\n",
        "    output.append([iSite[0],iSite[1]-1,iSite[2]])\n",
        "    output.append([iSite[0],iSite[1],iSite[2]-1])\n",
        "    output.append([iSite[0],iSite[1],iSite[2]+1])\n",
        "    return output\n",
        "\n",
        "  def FirstNeighborsInTriangularLattice(self,iSite):\n",
        "    output = []\n",
        "    output.append([iSite[0]+1,iSite[1],iSite[2]])\n",
        "    output.append([iSite[0],iSite[1]+1,iSite[2]])\n",
        "    output.append([iSite[0]-1,iSite[1],iSite[2]])\n",
        "    output.append([iSite[0],iSite[1]-1,iSite[2]])\n",
        "    output.append([iSite[0]+1,iSite[1]+1,iSite[2]])\n",
        "    output.append([iSite[0]-1,iSite[1]-1,iSite[2]])\n",
        "    return output\n",
        "\n",
        "  def FirstNeighborsInHexagonalLattice(self,iSite):\n",
        "    output = []\n",
        "    parity = (iSite[0]+iSite[1])%2\n",
        "    output.append([iSite[0]+(2*parity-1),iSite[1],iSite[2]])\n",
        "    output.append([iSite[0],iSite[1]-1,iSite[2]])\n",
        "    output.append([iSite[0],iSite[1]+1,iSite[2]])\n",
        "    return output\n",
        "\n",
        "# functions that could still evolve\n",
        "  def FirstNeighbors(self,iSite):\n",
        "    if self.graph == \"Squared_Lattice\":\n",
        "      output = self.FirstNeighborsInSquaredLattice(iSite)\n",
        "    if self.graph == \"Cubic_Lattice\":\n",
        "      output = self.FirstNeighborsInCubicLattice(iSite)\n",
        "    if self.graph == \"Triangular_Lattice\":\n",
        "      output = self.FirstNeighborsInTriangularLattice(iSite)\n",
        "    if self.graph == \"Hexagonal_Lattice\":\n",
        "      output = self.FirstNeighborsInHexagonalLattice(iSite)\n",
        "    return output\n",
        "\n",
        "  def SelectedMove(self,iListSites):\n",
        "\n",
        "    # I need first to compute the atmosphere of the possible sites\n",
        "    atmospheres = [self.Atmosphere(site)-1 for site in iListSites]\n",
        "    free_energies = [atmosphere*self.epsilon for atmosphere in atmospheres]\n",
        "    unnormalised_probabilities = [math.exp(free_energy*self.beta)\n",
        "                                  for free_energy in free_energies]\n",
        "\n",
        "    partition_function = sum(unnormalised_probabilities)\n",
        "\n",
        "    normalised_probabilities = [probability/partition_function\n",
        "                                for probability in unnormalised_probabilities]\n",
        "    output = random.choices(iListSites,weights=normalised_probabilities,k=1)\n",
        "    \n",
        "    return output[0]\n",
        "\n",
        "  def DoubleGrow(self):\n",
        "    does_grow_forward_continue = True\n",
        "    does_grow_backward_continue = True\n",
        "    if self.is_trapped_forward: does_grow_forward_continue = False\n",
        "    if self.is_trapped_backward: does_grow_backward_continue = False\n",
        "    if self.length >= self.maximum_length: \n",
        "      does_grow_backward_continue = False\n",
        "      does_grow_forward_continue = False\n",
        "\n",
        "    while does_grow_forward_continue or does_grow_backward_continue:\n",
        "\n",
        "      self.GrowWalkByOneStepForward()\n",
        "      if self.is_trapped_forward: does_grow_forward_continue = False\n",
        "      if self.length >= self.maximum_length: \n",
        "        does_grow_forward_continue = False\n",
        "        does_grow_backward_continue = False\n",
        "      \n",
        "      self.GrowWalkByOneStepBackward()\n",
        "      if self.is_trapped_backward: does_grow_backward_continue = False\n",
        "      if self.length >= self.maximum_length: \n",
        "        does_grow_forward_continue = False\n",
        "        does_grow_backward_continue = False\n",
        "      \n",
        "    return None\n",
        "\n",
        "  def Grow(self):\n",
        "    does_grow_continue = True\n",
        "    if self.is_trapped_forward: does_grow_continue = False\n",
        "    if self.length >= self.maximum_length: does_grow_continue = False\n",
        "    while does_grow_continue:\n",
        "      self.GrowWalkByOneStepForward()\n",
        "      if self.is_trapped_forward: does_grow_continue = False\n",
        "      if self.length >= self.maximum_length: does_grow_continue = False\n",
        "    return None\n",
        "\n",
        "  def GrowWalkByOneStepBackward(self):\n",
        "    current_site = self.path[0]\n",
        "    unoccupied_sites = self.UnoccupiedSites(self.FirstNeighbors(current_site))\n",
        "    if len(unoccupied_sites)==0: self.is_trapped_backward= True\n",
        "    if not self.is_trapped_backward:\n",
        "      self.path.insert(0,self.SelectedMove(unoccupied_sites))\n",
        "      self.length += 1\n",
        "    return None\n",
        "\n",
        "  def GrowWalkByOneStepForward(self):\n",
        "    current_site = self.path[-1]\n",
        "    unoccupied_sites = self.UnoccupiedSites(self.FirstNeighbors(current_site))\n",
        "    if len(unoccupied_sites)==0: self.is_trapped_forward= True\n",
        "    if not self.is_trapped_forward:\n",
        "      self.path.append(self.SelectedMove(unoccupied_sites))\n",
        "      self.length += 1\n",
        "    return None\n",
        "\n"
      ],
      "metadata": {
        "id": "xoUWalj3wNHE"
      },
      "execution_count": 4,
      "outputs": []
    },
    {
      "cell_type": "code",
      "source": [
        "class RandomWalks:\n",
        "  def __init__(self,iMaxLength,iLattice,iBeta):\n",
        "    self.maximum_length = iMaxLength\n",
        "    self.lattice = iLattice\n",
        "    self.beta = iBeta\n",
        "    self.mean_length = 0\n",
        "\n",
        "  def Generate(self,iNbrWalks):\n",
        "    walk = OneRandomWalk(self.maximum_length,self.lattice,self.beta)\n",
        "    for i in range(iNbrWalks):\n",
        "      walk.Grow()\n",
        "      self.mean_length += walk.length\n",
        "      walk.ResetWalk()\n",
        "    self.mean_length = self.mean_length/iNbrWalks\n",
        "\n",
        "  def AverageLength(self):\n",
        "    return self.mean_length"
      ],
      "metadata": {
        "id": "0h-Fs7sXhTFL"
      },
      "execution_count": 2,
      "outputs": []
    },
    {
      "cell_type": "code",
      "source": [
        "Sample = RandomWalks(10000,\"Hexagonal_Lattice\",0)\n",
        "Sample.Generate(100000)\n",
        "Sample.AverageLength()"
      ],
      "metadata": {
        "colab": {
          "base_uri": "https://localhost:8080/"
        },
        "id": "iTdxv_FkydU_",
        "outputId": "70242f0c-796f-4b6d-ccaf-4a881843f30d"
      },
      "execution_count": 8,
      "outputs": [
        {
          "output_type": "execute_result",
          "data": {
            "text/plain": [
              "71.09426"
            ]
          },
          "metadata": {},
          "execution_count": 8
        }
      ]
    },
    {
      "cell_type": "code",
      "source": [
        "Walk = RandomWalk(10,\"Squared_Lattice\")\n",
        "Walk.Grow()\n",
        "print(Walk.path)\n",
        "Walk.length"
      ],
      "metadata": {
        "colab": {
          "base_uri": "https://localhost:8080/"
        },
        "id": "YDz_rRkF8LX9",
        "outputId": "dc47cd66-ad6c-48ac-a02a-702a13b55a5c"
      },
      "execution_count": 79,
      "outputs": [
        {
          "output_type": "stream",
          "name": "stdout",
          "text": [
            "[[0, 0], [-1, 0], [-2, 0], [-3, 0], [-3, 1], [-3, 2], [-3, 3], [-4, 3], [-5, 3], [-5, 4], [-5, 5]]\n"
          ]
        },
        {
          "output_type": "execute_result",
          "data": {
            "text/plain": [
              "10"
            ]
          },
          "metadata": {},
          "execution_count": 79
        }
      ]
    },
    {
      "cell_type": "code",
      "source": [],
      "metadata": {
        "id": "35PpQ-Re8qOy"
      },
      "execution_count": null,
      "outputs": []
    }
  ]
}